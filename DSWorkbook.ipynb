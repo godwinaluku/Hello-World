{
  "nbformat": 4,
  "nbformat_minor": 0,
  "metadata": {
    "colab": {
      "provenance": [],
      "authorship_tag": "ABX9TyOhonXcCL0H/DClLuXU4xSN",
      "include_colab_link": true
    },
    "kernelspec": {
      "name": "python3",
      "display_name": "Python 3"
    },
    "language_info": {
      "name": "python"
    }
  },
  "cells": [
    {
      "cell_type": "markdown",
      "metadata": {
        "id": "view-in-github",
        "colab_type": "text"
      },
      "source": [
        "<a href=\"https://colab.research.google.com/github/godwinaluku/Hello-World/blob/master/DSWorkbook.ipynb\" target=\"_parent\"><img src=\"https://colab.research.google.com/assets/colab-badge.svg\" alt=\"Open In Colab\"/></a>"
      ]
    },
    {
      "cell_type": "code",
      "execution_count": null,
      "metadata": {
        "colab": {
          "base_uri": "https://localhost:8080/"
        },
        "id": "7vK2M9tU20mF",
        "outputId": "1a77c1a8-a236-4e58-82d5-ae023985732d"
      },
      "outputs": [
        {
          "output_type": "stream",
          "name": "stdout",
          "text": [
            "9131.0625\n"
          ]
        }
      ],
      "source": [
        "# prompt: compute the number of days in 25 years\n",
        "\n",
        "days_in_year = 365.2425\n",
        "num_days = days_in_year * 25\n",
        "print(num_days)\n"
      ]
    },
    {
      "cell_type": "code",
      "source": [
        "!pip install pandas"
      ],
      "metadata": {
        "colab": {
          "base_uri": "https://localhost:8080/"
        },
        "id": "0xxCE6ydKh-6",
        "outputId": "ba92ed46-f935-45a3-eba0-e97328d213ea"
      },
      "execution_count": null,
      "outputs": [
        {
          "output_type": "stream",
          "name": "stdout",
          "text": [
            "Requirement already satisfied: pandas in /usr/local/lib/python3.10/dist-packages (1.5.3)\n",
            "Requirement already satisfied: python-dateutil>=2.8.1 in /usr/local/lib/python3.10/dist-packages (from pandas) (2.8.2)\n",
            "Requirement already satisfied: pytz>=2020.1 in /usr/local/lib/python3.10/dist-packages (from pandas) (2023.4)\n",
            "Requirement already satisfied: numpy>=1.21.0 in /usr/local/lib/python3.10/dist-packages (from pandas) (1.25.2)\n",
            "Requirement already satisfied: six>=1.5 in /usr/local/lib/python3.10/dist-packages (from python-dateutil>=2.8.1->pandas) (1.16.0)\n"
          ]
        }
      ]
    },
    {
      "cell_type": "code",
      "source": [
        "algorithm = ['Linear Regression','Logistic Regression','RandomForest','a3c']\n",
        "learning = ['Supervised','Supervised','Supervised','Reinforcement']\n",
        "algorithm_type = ['Regression','Classification','Regression or Classification','Game AI']\n",
        "algorithm.append('k-means')\n",
        "print(algorithm)\n",
        "learning.append('Unsupervised')\n",
        "print(learning)"
      ],
      "metadata": {
        "colab": {
          "base_uri": "https://localhost:8080/"
        },
        "id": "iaN_8RwXscWp",
        "outputId": "b12fa578-8384-41b1-ec20-34ea03caae38"
      },
      "execution_count": null,
      "outputs": [
        {
          "output_type": "stream",
          "name": "stdout",
          "text": [
            "['Linear Regression', 'Logistic Regression', 'RandomForest', 'a3c', 'k-means']\n",
            "['Supervised', 'Supervised', 'Supervised', 'Reinforcement', 'Unsupervised']\n"
          ]
        }
      ]
    }
  ]
}